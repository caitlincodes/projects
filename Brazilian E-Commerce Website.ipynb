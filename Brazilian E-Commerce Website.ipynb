{
 "cells": [
  {
   "cell_type": "markdown",
   "id": "26afd147",
   "metadata": {},
   "source": [
    "# Brazilian E-Commerce Website: Olist Store"
   ]
  },
  {
   "cell_type": "markdown",
   "id": "446dcc28",
   "metadata": {},
   "source": [
    "This project analyzes a Brazilian ecommerce public dataset of orders made at Olist Store.\n",
    "This dataset contains information over 100,000 orders on the website between 2016-2018. The names of the suppliers have been anonymized.\n",
    "Each order contains information such as: delivery status, price, size, customer location, and customer reviews.\n",
    "\n",
    "In this project we are trying to find out how many orders made on this website arrive on time and if there is a correlation with seller reviews. We will also look at how the customer reviews are distributed. Perhaps late orders go hand in hand with bad reviews?\n",
    "\n",
    "<b>Project overview</b>:\n",
    "<ul>\n",
    "    <li>Loading and cleaning the data files</li>\n",
    "    <li><b>Question 1:</b> What is the average waiting time per seller?</li>\n",
    "    <li><b>Question 2:</b> What is the percentage of late orders per seller?</li>\n",
    "    <li><b>Question 2:</b> What is the correlation between delivery delay and seller review?</li>\n",
    "    <li><b>Question 3:</b> How are the customer reviews distributed?</li>\n",
    "</ul>"
   ]
  },
  {
   "cell_type": "code",
   "execution_count": 50,
   "id": "9d7f26e8",
   "metadata": {},
   "outputs": [],
   "source": [
    "%matplotlib inline\n",
    "import numpy as np\n",
    "import pandas as pd\n",
    "import matplotlib.pyplot as plt\n",
    "import seaborn as sns\n",
    "from datetime import datetime, timedelta\n",
    "import warnings\n",
    "warnings.filterwarnings('ignore')"
   ]
  },
  {
   "cell_type": "markdown",
   "id": "16cc817b",
   "metadata": {},
   "source": [
    "## 1. Loading and cleaning the data files"
   ]
  },
  {
   "cell_type": "markdown",
   "id": "a58e3791",
   "metadata": {},
   "source": [
    "The datasets are imported and the product category names are translated to English."
   ]
  },
  {
   "cell_type": "code",
   "execution_count": 51,
   "id": "66426935",
   "metadata": {},
   "outputs": [],
   "source": [
    "customers = pd.read_csv(\"olist_customers_dataset.csv\")\n",
    "geo = pd.read_csv(\"olist_geolocation_dataset.csv\")\n",
    "order_items = pd.read_csv(\"olist_order_items_dataset.csv\")\n",
    "orders = pd.read_csv(\"olist_orders_dataset.csv\")\n",
    "products = pd.read_csv(\"olist_products_dataset.csv\")\n",
    "sellers = pd.read_csv(\"olist_sellers_dataset.csv\")\n",
    "name_translation = pd.read_csv(\"product_category_name_translation.csv\")\n",
    "reviews = pd.read_csv(\"olist_order_reviews_dataset.csv\")"
   ]
  },
  {
   "cell_type": "code",
   "execution_count": 52,
   "id": "ff23f3b5",
   "metadata": {
    "scrolled": true
   },
   "outputs": [
    {
     "name": "stdout",
     "output_type": "stream",
     "text": [
      "0                        perfumery\n",
      "1                              art\n",
      "2                   sports_leisure\n",
      "3                             baby\n",
      "4                       housewares\n",
      "                   ...            \n",
      "32946              furniture_decor\n",
      "32947    construction_tools_lights\n",
      "32948               bed_bath_table\n",
      "32949        computers_accessories\n",
      "32950               bed_bath_table\n",
      "Name: product_category_name, Length: 32951, dtype: object\n"
     ]
    }
   ],
   "source": [
    "product_category_name = name_translation[\"product_category_name\"]\n",
    "product_category_name_english = name_translation[\"product_category_name_english\"]\n",
    "\n",
    "translations = dict(zip(product_category_name, product_category_name_english))\n",
    "translations.update({'portateis_cozinha_e_preparadores_de_alimentos': 'portable_kitchen_food_preparers', 'pc_gamer': 'pc_gamer'})\n",
    "\n",
    "products[\"product_category_name\"] = products[\"product_category_name\"].map(translations)\n",
    "print(products[\"product_category_name\"])"
   ]
  },
  {
   "cell_type": "markdown",
   "id": "404da3b1",
   "metadata": {},
   "source": [
    "<b>Merging files</b>\n",
    "\n",
    "The files <b>order_items</b> and <b>orders</b> will be merged so that we have one dataset of the sellers, their sold items, the expected and actual delivery time, and the missing values will be erased."
   ]
  },
  {
   "cell_type": "code",
   "execution_count": 77,
   "id": "94db80a8",
   "metadata": {},
   "outputs": [
    {
     "name": "stdout",
     "output_type": "stream",
     "text": [
      "112650\n"
     ]
    },
    {
     "data": {
      "text/html": [
       "<div>\n",
       "<style scoped>\n",
       "    .dataframe tbody tr th:only-of-type {\n",
       "        vertical-align: middle;\n",
       "    }\n",
       "\n",
       "    .dataframe tbody tr th {\n",
       "        vertical-align: top;\n",
       "    }\n",
       "\n",
       "    .dataframe thead th {\n",
       "        text-align: right;\n",
       "    }\n",
       "</style>\n",
       "<table border=\"1\" class=\"dataframe\">\n",
       "  <thead>\n",
       "    <tr style=\"text-align: right;\">\n",
       "      <th></th>\n",
       "      <th>order_id</th>\n",
       "      <th>product_id</th>\n",
       "      <th>seller_id</th>\n",
       "      <th>customer_id</th>\n",
       "      <th>order_status</th>\n",
       "      <th>order_approved_at</th>\n",
       "      <th>order_delivered_carrier_date</th>\n",
       "      <th>order_delivered_customer_date</th>\n",
       "      <th>order_estimated_delivery_date</th>\n",
       "    </tr>\n",
       "  </thead>\n",
       "  <tbody>\n",
       "    <tr>\n",
       "      <th>0</th>\n",
       "      <td>00010242fe8c5a6d1ba2dd792cb16214</td>\n",
       "      <td>4244733e06e7ecb4970a6e2683c13e61</td>\n",
       "      <td>48436dade18ac8b2bce089ec2a041202</td>\n",
       "      <td>3ce436f183e68e07877b285a838db11a</td>\n",
       "      <td>delivered</td>\n",
       "      <td>2017-09-13 09:45:35</td>\n",
       "      <td>2017-09-19 18:34:16</td>\n",
       "      <td>2017-09-20 23:43:48</td>\n",
       "      <td>2017-09-29 00:00:00</td>\n",
       "    </tr>\n",
       "    <tr>\n",
       "      <th>1</th>\n",
       "      <td>00018f77f2f0320c557190d7a144bdd3</td>\n",
       "      <td>e5f2d52b802189ee658865ca93d83a8f</td>\n",
       "      <td>dd7ddc04e1b6c2c614352b383efe2d36</td>\n",
       "      <td>f6dd3ec061db4e3987629fe6b26e5cce</td>\n",
       "      <td>delivered</td>\n",
       "      <td>2017-04-26 11:05:13</td>\n",
       "      <td>2017-05-04 14:35:00</td>\n",
       "      <td>2017-05-12 16:04:24</td>\n",
       "      <td>2017-05-15 00:00:00</td>\n",
       "    </tr>\n",
       "    <tr>\n",
       "      <th>2</th>\n",
       "      <td>000229ec398224ef6ca0657da4fc703e</td>\n",
       "      <td>c777355d18b72b67abbeef9df44fd0fd</td>\n",
       "      <td>5b51032eddd242adc84c38acab88f23d</td>\n",
       "      <td>6489ae5e4333f3693df5ad4372dab6d3</td>\n",
       "      <td>delivered</td>\n",
       "      <td>2018-01-14 14:48:30</td>\n",
       "      <td>2018-01-16 12:36:48</td>\n",
       "      <td>2018-01-22 13:19:16</td>\n",
       "      <td>2018-02-05 00:00:00</td>\n",
       "    </tr>\n",
       "    <tr>\n",
       "      <th>3</th>\n",
       "      <td>00024acbcdf0a6daa1e931b038114c75</td>\n",
       "      <td>7634da152a4610f1595efa32f14722fc</td>\n",
       "      <td>9d7a1d34a5052409006425275ba1c2b4</td>\n",
       "      <td>d4eb9395c8c0431ee92fce09860c5a06</td>\n",
       "      <td>delivered</td>\n",
       "      <td>2018-08-08 10:10:18</td>\n",
       "      <td>2018-08-10 13:28:00</td>\n",
       "      <td>2018-08-14 13:32:39</td>\n",
       "      <td>2018-08-20 00:00:00</td>\n",
       "    </tr>\n",
       "    <tr>\n",
       "      <th>4</th>\n",
       "      <td>00042b26cf59d7ce69dfabb4e55b4fd9</td>\n",
       "      <td>ac6c3623068f30de03045865e4e10089</td>\n",
       "      <td>df560393f3a51e74553ab94004ba5c87</td>\n",
       "      <td>58dbd0b2d70206bf40e62cd34e84d795</td>\n",
       "      <td>delivered</td>\n",
       "      <td>2017-02-04 14:10:13</td>\n",
       "      <td>2017-02-16 09:46:09</td>\n",
       "      <td>2017-03-01 16:42:31</td>\n",
       "      <td>2017-03-17 00:00:00</td>\n",
       "    </tr>\n",
       "  </tbody>\n",
       "</table>\n",
       "</div>"
      ],
      "text/plain": [
       "                           order_id                        product_id  \\\n",
       "0  00010242fe8c5a6d1ba2dd792cb16214  4244733e06e7ecb4970a6e2683c13e61   \n",
       "1  00018f77f2f0320c557190d7a144bdd3  e5f2d52b802189ee658865ca93d83a8f   \n",
       "2  000229ec398224ef6ca0657da4fc703e  c777355d18b72b67abbeef9df44fd0fd   \n",
       "3  00024acbcdf0a6daa1e931b038114c75  7634da152a4610f1595efa32f14722fc   \n",
       "4  00042b26cf59d7ce69dfabb4e55b4fd9  ac6c3623068f30de03045865e4e10089   \n",
       "\n",
       "                          seller_id                       customer_id  \\\n",
       "0  48436dade18ac8b2bce089ec2a041202  3ce436f183e68e07877b285a838db11a   \n",
       "1  dd7ddc04e1b6c2c614352b383efe2d36  f6dd3ec061db4e3987629fe6b26e5cce   \n",
       "2  5b51032eddd242adc84c38acab88f23d  6489ae5e4333f3693df5ad4372dab6d3   \n",
       "3  9d7a1d34a5052409006425275ba1c2b4  d4eb9395c8c0431ee92fce09860c5a06   \n",
       "4  df560393f3a51e74553ab94004ba5c87  58dbd0b2d70206bf40e62cd34e84d795   \n",
       "\n",
       "  order_status    order_approved_at order_delivered_carrier_date  \\\n",
       "0    delivered  2017-09-13 09:45:35          2017-09-19 18:34:16   \n",
       "1    delivered  2017-04-26 11:05:13          2017-05-04 14:35:00   \n",
       "2    delivered  2018-01-14 14:48:30          2018-01-16 12:36:48   \n",
       "3    delivered  2018-08-08 10:10:18          2018-08-10 13:28:00   \n",
       "4    delivered  2017-02-04 14:10:13          2017-02-16 09:46:09   \n",
       "\n",
       "  order_delivered_customer_date order_estimated_delivery_date  \n",
       "0           2017-09-20 23:43:48           2017-09-29 00:00:00  \n",
       "1           2017-05-12 16:04:24           2017-05-15 00:00:00  \n",
       "2           2018-01-22 13:19:16           2018-02-05 00:00:00  \n",
       "3           2018-08-14 13:32:39           2018-08-20 00:00:00  \n",
       "4           2017-03-01 16:42:31           2017-03-17 00:00:00  "
      ]
     },
     "execution_count": 77,
     "metadata": {},
     "output_type": "execute_result"
    }
   ],
   "source": [
    "merged_orders = pd.merge(left = order_items, right = orders, on = 'order_id').drop(['order_item_id','shipping_limit_date', 'order_purchase_timestamp', 'price', 'freight_value'], axis=1)\n",
    "print(len(merged_orders))\n",
    "merged_orders.head()"
   ]
  },
  {
   "cell_type": "markdown",
   "id": "57b44cb0",
   "metadata": {},
   "source": [
    "<b>Missing values</b>\n",
    "\n",
    "A descriptive analysis is made of the difference between the delivered customer date and the estimated delivery time. To make an accurate analysis, we need to get rid of any missing values from the delivered customer dates. Let's check what the categories are of the missing values of the column order status."
   ]
  },
  {
   "cell_type": "code",
   "execution_count": 80,
   "id": "4937272b",
   "metadata": {},
   "outputs": [
    {
     "data": {
      "text/plain": [
       "array(['shipped', 'canceled', 'invoiced', 'processing', 'delivered',\n",
       "       'approved', 'unavailable'], dtype=object)"
      ]
     },
     "execution_count": 80,
     "metadata": {},
     "output_type": "execute_result"
    }
   ],
   "source": [
    "nan = merged_orders[merged_orders[\"order_delivered_customer_date\"].isna()]\n",
    "nan[\"order_status\"].unique()"
   ]
  },
  {
   "cell_type": "markdown",
   "id": "666e865c",
   "metadata": {},
   "source": [
    "It makes sense that there are NA-values in the column order_delivered_customer_date, because most of these are orders that have either been canceled or are still being processed. We will delete the NA-values in the column order_delivered_customer_date."
   ]
  },
  {
   "cell_type": "code",
   "execution_count": 108,
   "id": "f87dd210",
   "metadata": {},
   "outputs": [
    {
     "name": "stdout",
     "output_type": "stream",
     "text": [
      "110196\n"
     ]
    },
    {
     "data": {
      "text/html": [
       "<div>\n",
       "<style scoped>\n",
       "    .dataframe tbody tr th:only-of-type {\n",
       "        vertical-align: middle;\n",
       "    }\n",
       "\n",
       "    .dataframe tbody tr th {\n",
       "        vertical-align: top;\n",
       "    }\n",
       "\n",
       "    .dataframe thead th {\n",
       "        text-align: right;\n",
       "    }\n",
       "</style>\n",
       "<table border=\"1\" class=\"dataframe\">\n",
       "  <thead>\n",
       "    <tr style=\"text-align: right;\">\n",
       "      <th></th>\n",
       "      <th>order_id</th>\n",
       "      <th>product_id</th>\n",
       "      <th>seller_id</th>\n",
       "      <th>customer_id</th>\n",
       "      <th>order_status</th>\n",
       "      <th>order_approved_at</th>\n",
       "      <th>order_delivered_carrier_date</th>\n",
       "      <th>order_delivered_customer_date</th>\n",
       "      <th>order_estimated_delivery_date</th>\n",
       "      <th>wait_time</th>\n",
       "      <th>on_time</th>\n",
       "    </tr>\n",
       "  </thead>\n",
       "  <tbody>\n",
       "    <tr>\n",
       "      <th>0</th>\n",
       "      <td>00010242fe8c5a6d1ba2dd792cb16214</td>\n",
       "      <td>4244733e06e7ecb4970a6e2683c13e61</td>\n",
       "      <td>48436dade18ac8b2bce089ec2a041202</td>\n",
       "      <td>3ce436f183e68e07877b285a838db11a</td>\n",
       "      <td>delivered</td>\n",
       "      <td>2017-09-13 09:45:35</td>\n",
       "      <td>2017-09-19 18:34:16</td>\n",
       "      <td>2017-09-20 23:43:48</td>\n",
       "      <td>2017-09-29</td>\n",
       "      <td>-9</td>\n",
       "      <td>0</td>\n",
       "    </tr>\n",
       "    <tr>\n",
       "      <th>1</th>\n",
       "      <td>00018f77f2f0320c557190d7a144bdd3</td>\n",
       "      <td>e5f2d52b802189ee658865ca93d83a8f</td>\n",
       "      <td>dd7ddc04e1b6c2c614352b383efe2d36</td>\n",
       "      <td>f6dd3ec061db4e3987629fe6b26e5cce</td>\n",
       "      <td>delivered</td>\n",
       "      <td>2017-04-26 11:05:13</td>\n",
       "      <td>2017-05-04 14:35:00</td>\n",
       "      <td>2017-05-12 16:04:24</td>\n",
       "      <td>2017-05-15</td>\n",
       "      <td>-3</td>\n",
       "      <td>0</td>\n",
       "    </tr>\n",
       "    <tr>\n",
       "      <th>2</th>\n",
       "      <td>000229ec398224ef6ca0657da4fc703e</td>\n",
       "      <td>c777355d18b72b67abbeef9df44fd0fd</td>\n",
       "      <td>5b51032eddd242adc84c38acab88f23d</td>\n",
       "      <td>6489ae5e4333f3693df5ad4372dab6d3</td>\n",
       "      <td>delivered</td>\n",
       "      <td>2018-01-14 14:48:30</td>\n",
       "      <td>2018-01-16 12:36:48</td>\n",
       "      <td>2018-01-22 13:19:16</td>\n",
       "      <td>2018-02-05</td>\n",
       "      <td>-14</td>\n",
       "      <td>0</td>\n",
       "    </tr>\n",
       "    <tr>\n",
       "      <th>3</th>\n",
       "      <td>00024acbcdf0a6daa1e931b038114c75</td>\n",
       "      <td>7634da152a4610f1595efa32f14722fc</td>\n",
       "      <td>9d7a1d34a5052409006425275ba1c2b4</td>\n",
       "      <td>d4eb9395c8c0431ee92fce09860c5a06</td>\n",
       "      <td>delivered</td>\n",
       "      <td>2018-08-08 10:10:18</td>\n",
       "      <td>2018-08-10 13:28:00</td>\n",
       "      <td>2018-08-14 13:32:39</td>\n",
       "      <td>2018-08-20</td>\n",
       "      <td>-6</td>\n",
       "      <td>0</td>\n",
       "    </tr>\n",
       "    <tr>\n",
       "      <th>4</th>\n",
       "      <td>00042b26cf59d7ce69dfabb4e55b4fd9</td>\n",
       "      <td>ac6c3623068f30de03045865e4e10089</td>\n",
       "      <td>df560393f3a51e74553ab94004ba5c87</td>\n",
       "      <td>58dbd0b2d70206bf40e62cd34e84d795</td>\n",
       "      <td>delivered</td>\n",
       "      <td>2017-02-04 14:10:13</td>\n",
       "      <td>2017-02-16 09:46:09</td>\n",
       "      <td>2017-03-01 16:42:31</td>\n",
       "      <td>2017-03-17</td>\n",
       "      <td>-16</td>\n",
       "      <td>0</td>\n",
       "    </tr>\n",
       "  </tbody>\n",
       "</table>\n",
       "</div>"
      ],
      "text/plain": [
       "                           order_id                        product_id  \\\n",
       "0  00010242fe8c5a6d1ba2dd792cb16214  4244733e06e7ecb4970a6e2683c13e61   \n",
       "1  00018f77f2f0320c557190d7a144bdd3  e5f2d52b802189ee658865ca93d83a8f   \n",
       "2  000229ec398224ef6ca0657da4fc703e  c777355d18b72b67abbeef9df44fd0fd   \n",
       "3  00024acbcdf0a6daa1e931b038114c75  7634da152a4610f1595efa32f14722fc   \n",
       "4  00042b26cf59d7ce69dfabb4e55b4fd9  ac6c3623068f30de03045865e4e10089   \n",
       "\n",
       "                          seller_id                       customer_id  \\\n",
       "0  48436dade18ac8b2bce089ec2a041202  3ce436f183e68e07877b285a838db11a   \n",
       "1  dd7ddc04e1b6c2c614352b383efe2d36  f6dd3ec061db4e3987629fe6b26e5cce   \n",
       "2  5b51032eddd242adc84c38acab88f23d  6489ae5e4333f3693df5ad4372dab6d3   \n",
       "3  9d7a1d34a5052409006425275ba1c2b4  d4eb9395c8c0431ee92fce09860c5a06   \n",
       "4  df560393f3a51e74553ab94004ba5c87  58dbd0b2d70206bf40e62cd34e84d795   \n",
       "\n",
       "  order_status    order_approved_at order_delivered_carrier_date  \\\n",
       "0    delivered  2017-09-13 09:45:35          2017-09-19 18:34:16   \n",
       "1    delivered  2017-04-26 11:05:13          2017-05-04 14:35:00   \n",
       "2    delivered  2018-01-14 14:48:30          2018-01-16 12:36:48   \n",
       "3    delivered  2018-08-08 10:10:18          2018-08-10 13:28:00   \n",
       "4    delivered  2017-02-04 14:10:13          2017-02-16 09:46:09   \n",
       "\n",
       "  order_delivered_customer_date order_estimated_delivery_date  wait_time  \\\n",
       "0           2017-09-20 23:43:48                    2017-09-29         -9   \n",
       "1           2017-05-12 16:04:24                    2017-05-15         -3   \n",
       "2           2018-01-22 13:19:16                    2018-02-05        -14   \n",
       "3           2018-08-14 13:32:39                    2018-08-20         -6   \n",
       "4           2017-03-01 16:42:31                    2017-03-17        -16   \n",
       "\n",
       "   on_time  \n",
       "0        0  \n",
       "1        0  \n",
       "2        0  \n",
       "3        0  \n",
       "4        0  "
      ]
     },
     "execution_count": 108,
     "metadata": {},
     "output_type": "execute_result"
    }
   ],
   "source": [
    "merged_orders = merged_orders[merged_orders[\"order_delivered_customer_date\"].notna()]\n",
    "print(len(merged_orders))\n",
    "merged_orders.head()"
   ]
  },
  {
   "cell_type": "markdown",
   "id": "062b9ab9",
   "metadata": {},
   "source": [
    "<b>Additional columns: waiting_time and on_time</b>\n",
    "\n",
    "A new column called wait_time is created that shows the difference between the estimated and the actual delivery time, so we can see which sellers deliver their orders later than promised and which sellers deliver their products on time. Additionally, a boolean column called on_time will be created to see if the order was on time or not."
   ]
  },
  {
   "cell_type": "code",
   "execution_count": 90,
   "id": "1a4a8b80",
   "metadata": {
    "scrolled": true
   },
   "outputs": [
    {
     "data": {
      "text/html": [
       "<div>\n",
       "<style scoped>\n",
       "    .dataframe tbody tr th:only-of-type {\n",
       "        vertical-align: middle;\n",
       "    }\n",
       "\n",
       "    .dataframe tbody tr th {\n",
       "        vertical-align: top;\n",
       "    }\n",
       "\n",
       "    .dataframe thead th {\n",
       "        text-align: right;\n",
       "    }\n",
       "</style>\n",
       "<table border=\"1\" class=\"dataframe\">\n",
       "  <thead>\n",
       "    <tr style=\"text-align: right;\">\n",
       "      <th></th>\n",
       "      <th>order_id</th>\n",
       "      <th>product_id</th>\n",
       "      <th>seller_id</th>\n",
       "      <th>customer_id</th>\n",
       "      <th>order_status</th>\n",
       "      <th>order_approved_at</th>\n",
       "      <th>order_delivered_carrier_date</th>\n",
       "      <th>order_delivered_customer_date</th>\n",
       "      <th>order_estimated_delivery_date</th>\n",
       "      <th>wait_time</th>\n",
       "      <th>on_time</th>\n",
       "    </tr>\n",
       "  </thead>\n",
       "  <tbody>\n",
       "    <tr>\n",
       "      <th>0</th>\n",
       "      <td>00010242fe8c5a6d1ba2dd792cb16214</td>\n",
       "      <td>4244733e06e7ecb4970a6e2683c13e61</td>\n",
       "      <td>48436dade18ac8b2bce089ec2a041202</td>\n",
       "      <td>3ce436f183e68e07877b285a838db11a</td>\n",
       "      <td>delivered</td>\n",
       "      <td>2017-09-13 09:45:35</td>\n",
       "      <td>2017-09-19 18:34:16</td>\n",
       "      <td>2017-09-20 23:43:48</td>\n",
       "      <td>2017-09-29</td>\n",
       "      <td>-9</td>\n",
       "      <td>True</td>\n",
       "    </tr>\n",
       "    <tr>\n",
       "      <th>1</th>\n",
       "      <td>00018f77f2f0320c557190d7a144bdd3</td>\n",
       "      <td>e5f2d52b802189ee658865ca93d83a8f</td>\n",
       "      <td>dd7ddc04e1b6c2c614352b383efe2d36</td>\n",
       "      <td>f6dd3ec061db4e3987629fe6b26e5cce</td>\n",
       "      <td>delivered</td>\n",
       "      <td>2017-04-26 11:05:13</td>\n",
       "      <td>2017-05-04 14:35:00</td>\n",
       "      <td>2017-05-12 16:04:24</td>\n",
       "      <td>2017-05-15</td>\n",
       "      <td>-3</td>\n",
       "      <td>True</td>\n",
       "    </tr>\n",
       "    <tr>\n",
       "      <th>2</th>\n",
       "      <td>000229ec398224ef6ca0657da4fc703e</td>\n",
       "      <td>c777355d18b72b67abbeef9df44fd0fd</td>\n",
       "      <td>5b51032eddd242adc84c38acab88f23d</td>\n",
       "      <td>6489ae5e4333f3693df5ad4372dab6d3</td>\n",
       "      <td>delivered</td>\n",
       "      <td>2018-01-14 14:48:30</td>\n",
       "      <td>2018-01-16 12:36:48</td>\n",
       "      <td>2018-01-22 13:19:16</td>\n",
       "      <td>2018-02-05</td>\n",
       "      <td>-14</td>\n",
       "      <td>True</td>\n",
       "    </tr>\n",
       "  </tbody>\n",
       "</table>\n",
       "</div>"
      ],
      "text/plain": [
       "                           order_id                        product_id  \\\n",
       "0  00010242fe8c5a6d1ba2dd792cb16214  4244733e06e7ecb4970a6e2683c13e61   \n",
       "1  00018f77f2f0320c557190d7a144bdd3  e5f2d52b802189ee658865ca93d83a8f   \n",
       "2  000229ec398224ef6ca0657da4fc703e  c777355d18b72b67abbeef9df44fd0fd   \n",
       "\n",
       "                          seller_id                       customer_id  \\\n",
       "0  48436dade18ac8b2bce089ec2a041202  3ce436f183e68e07877b285a838db11a   \n",
       "1  dd7ddc04e1b6c2c614352b383efe2d36  f6dd3ec061db4e3987629fe6b26e5cce   \n",
       "2  5b51032eddd242adc84c38acab88f23d  6489ae5e4333f3693df5ad4372dab6d3   \n",
       "\n",
       "  order_status    order_approved_at order_delivered_carrier_date  \\\n",
       "0    delivered  2017-09-13 09:45:35          2017-09-19 18:34:16   \n",
       "1    delivered  2017-04-26 11:05:13          2017-05-04 14:35:00   \n",
       "2    delivered  2018-01-14 14:48:30          2018-01-16 12:36:48   \n",
       "\n",
       "  order_delivered_customer_date order_estimated_delivery_date  wait_time  \\\n",
       "0           2017-09-20 23:43:48                    2017-09-29         -9   \n",
       "1           2017-05-12 16:04:24                    2017-05-15         -3   \n",
       "2           2018-01-22 13:19:16                    2018-02-05        -14   \n",
       "\n",
       "   on_time  \n",
       "0     True  \n",
       "1     True  \n",
       "2     True  "
      ]
     },
     "execution_count": 90,
     "metadata": {},
     "output_type": "execute_result"
    }
   ],
   "source": [
    "time_columns = ['order_delivered_customer_date',\n",
    "                 'order_estimated_delivery_date']\n",
    "\n",
    "for column in time_columns:\n",
    "    merged_orders.loc[:, column] = pd.to_datetime(merged_orders[column]).copy()\n",
    "\n",
    "merged_orders.loc[:,\"wait_time\"] = (merged_orders['order_delivered_customer_date'] - merged_orders['order_estimated_delivery_date']).dt.days\n",
    "merged_orders['on_time'] = merged_orders[\"wait_time\"] <= 0\n",
    "\n",
    "merged_orders.head(3)"
   ]
  },
  {
   "cell_type": "markdown",
   "id": "c245f485",
   "metadata": {},
   "source": [
    "## Question 1: What is the average waiting time per seller?"
   ]
  },
  {
   "cell_type": "markdown",
   "id": "7451d4d4",
   "metadata": {},
   "source": [
    "All the orders in the dataset are grouped by their seller id, so it can be calculated what the mean waiting time per seller is."
   ]
  },
  {
   "cell_type": "code",
   "execution_count": 97,
   "id": "d4d99908",
   "metadata": {
    "scrolled": true
   },
   "outputs": [
    {
     "data": {
      "image/png": "[encoded data removed]",
      "text/plain": [
       "<Figure size 432x288 with 1 Axes>"
      ]
     },
     "metadata": {
      "needs_background": "light"
     },
     "output_type": "display_data"
    }
   ],
   "source": [
    "grouped_sellers = merged_orders.groupby(['seller_id', 'on_time'])[\"wait_time\"].mean().sort_values()\n",
    "\n",
    "kwargs = dict(histtype = 'stepfilled', alpha = 0.5, bins = 100)\n",
    "plt.hist(grouped_sellers, label='waiting time', **kwargs)\n",
    "plt.title(\"Distribution of mean waiting days per seller\")\n",
    "plt.xlabel(\"days\")\n",
    "plt.xlim((-40, 40))\n",
    "plt.show()"
   ]
  },
  {
   "cell_type": "markdown",
   "id": "ed6a6c5c",
   "metadata": {},
   "source": []
  },
  {
   "cell_type": "markdown",
   "id": "e16a449b",
   "metadata": {},
   "source": [
    "<b>Findings:</b>\n",
    "\n",
    "In the above graphs we can see that the distribution of waiting days are skewed to the right, with two peaks. The majority of the buyers receive their order sooner than the promised time.\n",
    "Furthermore, there is also a group of sellers' that have their orders arriving not later than 10 days, but sellers whose packages arrive later than 15 days on average are very rare."
   ]
  },
  {
   "cell_type": "markdown",
   "id": "4adcb246",
   "metadata": {},
   "source": [
    "## Question 2: What is the percentage of late orders per seller?"
   ]
  },
  {
   "cell_type": "markdown",
   "id": "8522984a",
   "metadata": {},
   "source": [
    "Now that we know what average waiting time per seller is, we are also interested to know: what percentage of orders per seller are later than promised as opposed to the total of their orders? To find out what the answer is to this question, we calculate the total amount of orders per seller that were on time and divide it by their total amount of orders."
   ]
  },
  {
   "cell_type": "code",
   "execution_count": 103,
   "id": "663ea45c",
   "metadata": {},
   "outputs": [
    {
     "data": {
      "image/png": "[encoded data removed]",
      "text/plain": [
       "<Figure size 432x288 with 1 Axes>"
      ]
     },
     "metadata": {
      "needs_background": "light"
     },
     "output_type": "display_data"
    }
   ],
   "source": [
    "merged_orders['on_time'] = merged_orders['on_time'].map({True: 0, False: 1})\n",
    "perc_lateorders = merged_orders.groupby(['seller_id'])['on_time'].apply(lambda x: x.sum() / x.count() *100)\n",
    "\n",
    "perc_lateorders.hist()\n",
    "plt.xlabel('Percentage of late orders per seller')\n",
    "plt.ylabel('Sellers')\n",
    "plt.show()"
   ]
  },
  {
   "cell_type": "markdown",
   "id": "bd30be91",
   "metadata": {},
   "source": [
    "<b>Findings:</b><br>\n",
    "In the above graph we can see that the percentage of late orders per seller are strongly skewed to the right. \n",
    "The majority of the sellers' orders have a maximum of 10% of their orders arriving late. There is also a smaller group of whom max 20% of their orders arrives late. A percentage higher than that is much less frequent."
   ]
  },
  {
   "cell_type": "markdown",
   "id": "28b7cd38",
   "metadata": {},
   "source": [
    "## Question 3: What is the correlation between product arrival time and seller review?"
   ]
  },
  {
   "cell_type": "markdown",
   "id": "04ee8709",
   "metadata": {},
   "source": [
    "We are curious to know if there is a correlation between orders arriving on time and the reviews that consumer give to the sellers. In order to answer this question, we need to merge the reviews dataset with merged_orders dataset."
   ]
  },
  {
   "cell_type": "code",
   "execution_count": 104,
   "id": "3a4b4c6d",
   "metadata": {},
   "outputs": [
    {
     "data": {
      "text/html": [
       "<div>\n",
       "<style scoped>\n",
       "    .dataframe tbody tr th:only-of-type {\n",
       "        vertical-align: middle;\n",
       "    }\n",
       "\n",
       "    .dataframe tbody tr th {\n",
       "        vertical-align: top;\n",
       "    }\n",
       "\n",
       "    .dataframe thead th {\n",
       "        text-align: right;\n",
       "    }\n",
       "</style>\n",
       "<table border=\"1\" class=\"dataframe\">\n",
       "  <thead>\n",
       "    <tr style=\"text-align: right;\">\n",
       "      <th></th>\n",
       "      <th>review_id</th>\n",
       "      <th>order_id</th>\n",
       "      <th>review_score</th>\n",
       "      <th>review_comment_title</th>\n",
       "      <th>review_comment_message</th>\n",
       "      <th>product_id</th>\n",
       "      <th>seller_id</th>\n",
       "      <th>customer_id</th>\n",
       "      <th>order_status</th>\n",
       "      <th>order_approved_at</th>\n",
       "      <th>order_delivered_carrier_date</th>\n",
       "      <th>order_delivered_customer_date</th>\n",
       "      <th>order_estimated_delivery_date</th>\n",
       "      <th>wait_time</th>\n",
       "      <th>on_time</th>\n",
       "    </tr>\n",
       "  </thead>\n",
       "  <tbody>\n",
       "    <tr>\n",
       "      <th>0</th>\n",
       "      <td>7bc2406110b926393aa56f80a40eba40</td>\n",
       "      <td>73fc7af87114b39712e6da79b0a377eb</td>\n",
       "      <td>4</td>\n",
       "      <td>NaN</td>\n",
       "      <td>NaN</td>\n",
       "      <td>fd25ab760bfbba13c198fa3b4f1a0cd3</td>\n",
       "      <td>6d803cb79cc31c41c4c789a75933b3c7</td>\n",
       "      <td>41dcb106f807e993532d446263290104</td>\n",
       "      <td>delivered</td>\n",
       "      <td>2018-01-11 15:47:59</td>\n",
       "      <td>2018-01-12 21:57:22</td>\n",
       "      <td>2018-01-17 18:42:41</td>\n",
       "      <td>2018-02-02</td>\n",
       "      <td>-16</td>\n",
       "      <td>0</td>\n",
       "    </tr>\n",
       "    <tr>\n",
       "      <th>1</th>\n",
       "      <td>7bc2406110b926393aa56f80a40eba40</td>\n",
       "      <td>73fc7af87114b39712e6da79b0a377eb</td>\n",
       "      <td>4</td>\n",
       "      <td>NaN</td>\n",
       "      <td>NaN</td>\n",
       "      <td>fd25ab760bfbba13c198fa3b4f1a0cd3</td>\n",
       "      <td>6d803cb79cc31c41c4c789a75933b3c7</td>\n",
       "      <td>41dcb106f807e993532d446263290104</td>\n",
       "      <td>delivered</td>\n",
       "      <td>2018-01-11 15:47:59</td>\n",
       "      <td>2018-01-12 21:57:22</td>\n",
       "      <td>2018-01-17 18:42:41</td>\n",
       "      <td>2018-02-02</td>\n",
       "      <td>-16</td>\n",
       "      <td>0</td>\n",
       "    </tr>\n",
       "    <tr>\n",
       "      <th>2</th>\n",
       "      <td>80e641a11e56f04c1ad469d5645fdfde</td>\n",
       "      <td>a548910a1c6147796b98fdf73dbeba33</td>\n",
       "      <td>5</td>\n",
       "      <td>NaN</td>\n",
       "      <td>NaN</td>\n",
       "      <td>be0dbdc3d67d55727a65d4cd696ca73c</td>\n",
       "      <td>8e6d7754bc7e0f22c96d255ebda59eba</td>\n",
       "      <td>8a2e7ef9053dea531e4dc76bd6d853e6</td>\n",
       "      <td>delivered</td>\n",
       "      <td>2018-02-28 12:48:39</td>\n",
       "      <td>2018-03-02 19:08:15</td>\n",
       "      <td>2018-03-09 23:17:20</td>\n",
       "      <td>2018-03-14</td>\n",
       "      <td>-5</td>\n",
       "      <td>0</td>\n",
       "    </tr>\n",
       "  </tbody>\n",
       "</table>\n",
       "</div>"
      ],
      "text/plain": [
       "                          review_id                          order_id  \\\n",
       "0  7bc2406110b926393aa56f80a40eba40  73fc7af87114b39712e6da79b0a377eb   \n",
       "1  7bc2406110b926393aa56f80a40eba40  73fc7af87114b39712e6da79b0a377eb   \n",
       "2  80e641a11e56f04c1ad469d5645fdfde  a548910a1c6147796b98fdf73dbeba33   \n",
       "\n",
       "   review_score review_comment_title review_comment_message  \\\n",
       "0             4                  NaN                    NaN   \n",
       "1             4                  NaN                    NaN   \n",
       "2             5                  NaN                    NaN   \n",
       "\n",
       "                         product_id                         seller_id  \\\n",
       "0  fd25ab760bfbba13c198fa3b4f1a0cd3  6d803cb79cc31c41c4c789a75933b3c7   \n",
       "1  fd25ab760bfbba13c198fa3b4f1a0cd3  6d803cb79cc31c41c4c789a75933b3c7   \n",
       "2  be0dbdc3d67d55727a65d4cd696ca73c  8e6d7754bc7e0f22c96d255ebda59eba   \n",
       "\n",
       "                        customer_id order_status    order_approved_at  \\\n",
       "0  41dcb106f807e993532d446263290104    delivered  2018-01-11 15:47:59   \n",
       "1  41dcb106f807e993532d446263290104    delivered  2018-01-11 15:47:59   \n",
       "2  8a2e7ef9053dea531e4dc76bd6d853e6    delivered  2018-02-28 12:48:39   \n",
       "\n",
       "  order_delivered_carrier_date order_delivered_customer_date  \\\n",
       "0          2018-01-12 21:57:22           2018-01-17 18:42:41   \n",
       "1          2018-01-12 21:57:22           2018-01-17 18:42:41   \n",
       "2          2018-03-02 19:08:15           2018-03-09 23:17:20   \n",
       "\n",
       "  order_estimated_delivery_date  wait_time  on_time  \n",
       "0                    2018-02-02        -16        0  \n",
       "1                    2018-02-02        -16        0  \n",
       "2                    2018-03-14         -5        0  "
      ]
     },
     "execution_count": 104,
     "metadata": {},
     "output_type": "execute_result"
    }
   ],
   "source": [
    "merged_reviews = pd.merge(left = reviews, right = merged_orders, on = 'order_id').drop(['review_creation_date', 'review_answer_timestamp'], axis=1)\n",
    "merged_reviews.head(3)"
   ]
  },
  {
   "cell_type": "markdown",
   "id": "d8592801",
   "metadata": {},
   "source": [
    "The correlation between review score is calculated and plotted with a scatterplot."
   ]
  },
  {
   "cell_type": "code",
   "execution_count": 66,
   "id": "61cd436f",
   "metadata": {},
   "outputs": [
    {
     "name": "stdout",
     "output_type": "stream",
     "text": [
      "-0.2290298788540932\n"
     ]
    }
   ],
   "source": [
    "print(merged_reviews['review_score'].corr(merged_reviews['wait_time']))"
   ]
  },
  {
   "cell_type": "code",
   "execution_count": 106,
   "id": "20bddfe5",
   "metadata": {},
   "outputs": [
    {
     "data": {
      "image/png": "[encoded data removed]",
      "text/plain": [
       "<Figure size 432x288 with 1 Axes>"
      ]
     },
     "metadata": {
      "needs_background": "light"
     },
     "output_type": "display_data"
    }
   ],
   "source": [
    "plt.scatter(x= merged_reviews['review_score'], y=merged_reviews['wait_time'], alpha=0.1)\n",
    "plt.xlabel('Review score given by buyer')\n",
    "plt.ylabel('Waiting time order')\n",
    "plt.show()"
   ]
  },
  {
   "cell_type": "markdown",
   "id": "7af01df3",
   "metadata": {},
   "source": [
    "<b>Findings:</b>\n",
    "There is a negative, but not very strong correlation between given reviews and the waiting time. A shorter waiting time does not necessarily go hand in hand with a better review, as would be expected. This result can be due to the fact that we deleted all null values before in the column order status and with that deleted all orders from the dataset that were canceled or unavailable. We kept only the delivered orders and because of that, their reviews might be higher. We can dive a little bit further into the reviews to see what it tells us."
   ]
  },
  {
   "cell_type": "code",
   "execution_count": 109,
   "id": "45ef5731",
   "metadata": {},
   "outputs": [
    {
     "data": {
      "text/plain": [
       "order_status\n",
       "canceled          7\n",
       "delivered    110005\n",
       "Name: order_status, dtype: int64"
      ]
     },
     "execution_count": 109,
     "metadata": {},
     "output_type": "execute_result"
    }
   ],
   "source": [
    "merged_reviews.groupby('order_status')['order_status'].count()"
   ]
  },
  {
   "cell_type": "markdown",
   "id": "a92447fb",
   "metadata": {},
   "source": [
    "## 4. Question 4: How are the customer reviews distributed?"
   ]
  },
  {
   "cell_type": "markdown",
   "id": "20703e6c",
   "metadata": {},
   "source": [
    "text"
   ]
  },
  {
   "cell_type": "code",
   "execution_count": 68,
   "id": "35d0311c",
   "metadata": {},
   "outputs": [
    {
     "data": {
      "image/png": "[encoded data removed]",
      "text/plain": [
       "<Figure size 360x360 with 1 Axes>"
      ]
     },
     "metadata": {
      "needs_background": "light"
     },
     "output_type": "display_data"
    }
   ],
   "source": [
    " sns.catplot(\n",
    "    x='review_score', \n",
    "    kind='count', \n",
    "    data=merged_reviews, \n",
    "    palette=sns.color_palette(('#ca0020', '#d57b6f', '#c6c6c6', '#7f9abc', '#0571b0'))\n",
    ").set(\n",
    "    xlabel='Review Score', \n",
    "    ylabel='Number of Reviews',\n",
    ");"
   ]
  },
  {
   "cell_type": "markdown",
   "id": "afec7d10",
   "metadata": {},
   "source": [
    "<b>Conclusion:</b><br>\n",
    "In this graph we can see that most customers give quite positive ratings (4 or 5 stars). However, there is also a group, the third biggest group, that gives a rating of 1 star. We don't know how happy customers are who don't give a rating. Perhaps happy customers are more likely to give a positive rating, but we cannot conclude that from this dataset. On the overall, we can conclude from this dataset that the customers who give reviews, give mostly positive review of 4 or 5 out of 5 stars, and the majority of the orders from the Olist Store arrives on time."
   ]
  }
 ],
 "metadata": {
  "kernelspec": {
   "display_name": "Python 3",
   "language": "python",
   "name": "python3"
  },
  "language_info": {
   "codemirror_mode": {
    "name": "ipython",
    "version": 3
   },
   "file_extension": ".py",
   "mimetype": "text/x-python",
   "name": "python",
   "nbconvert_exporter": "python",
   "pygments_lexer": "ipython3",
   "version": "3.8.8"
  }
 },
 "nbformat": 4,
 "nbformat_minor": 5
}
